{
 "cells": [
  {
   "cell_type": "code",
   "execution_count": 2,
   "metadata": {
    "collapsed": false
   },
   "outputs": [
    {
     "name": "stdout",
     "output_type": "stream",
     "text": [
      "showing info https://raw.githubusercontent.com/nltk/nltk_data/gh-pages/index.xml\n"
     ]
    }
   ],
   "source": [
    "import nltk\n",
    "nltk.download()\n",
    "import os\n",
    "import pandas as pd\n",
    "import numpy\n",
    "from os import listdir\n",
    "from nltk.tokenize import sent_tokenize, word_tokenize\n",
    "from nltk.stem import PorterStemmer\n",
    "from nltk.corpus import stopwords\n",
    "import matplotlib.pyplot as plt\n",
    "# import tweepy"
   ]
  },
  {
   "cell_type": "code",
   "execution_count": 2,
   "metadata": {},
   "outputs": [
    {
     "ename": "NameError",
     "evalue": "name 'tweepy' is not defined",
     "traceback": [
      "\u001b[1;31m---------------------------------------------------------------------------\u001b[0m",
      "\u001b[1;31mNameError\u001b[0m                                 Traceback (most recent call last)",
      "\u001b[1;32m<ipython-input-2-323bb9bad4f0>\u001b[0m in \u001b[0;36m<module>\u001b[1;34m()\u001b[0m\n\u001b[1;32m----> 1\u001b[1;33m \u001b[0mauth\u001b[0m \u001b[1;33m=\u001b[0m \u001b[0mtweepy\u001b[0m\u001b[1;33m.\u001b[0m\u001b[0mOAuthHandler\u001b[0m\u001b[1;33m(\u001b[0m\u001b[0mYzWFDST42FGUpQrqnFd6cT85u\u001b[0m\u001b[1;33m,\u001b[0m \u001b[0mOis5i7dau00xpluXjFPuU3Uu20UjDxd9KXbQjd7duXEO370iu8\u001b[0m\u001b[1;33m)\u001b[0m\u001b[1;33m\u001b[0m\u001b[0m\n\u001b[0m\u001b[0;32m      2\u001b[0m \u001b[0mauth\u001b[0m\u001b[1;33m.\u001b[0m\u001b[0mset_access_token\u001b[0m\u001b[1;33m(\u001b[0m\u001b[0mCeFmTd5rwmRNptUmxBylBuPVKdUXkr\u001b[0m\u001b[1;33m,\u001b[0m \u001b[0mRZkyCDSbPpaQn50IdEHQGUGs0snINMpM6WukyLufwOZ2S\u001b[0m\u001b[1;33m)\u001b[0m\u001b[1;33m\u001b[0m\u001b[0m\n",
      "\u001b[1;31mNameError\u001b[0m: name 'tweepy' is not defined"
     ],
     "output_type": "error"
    }
   ],
   "source": [
    "auth = tweepy.OAuthHandler(\"YzWFDST42FGUpQrqnFd6cT85u\", \"Ois5i7dau00xpluXjFPuU3Uu20UjDxd9KXbQjd7duXEO370iu8\")\n",
    "auth.set_access_token(\"1089235299862040576-gxsMbZg9nQgbooxCpsJ33ETDKb6IM5\", \"bSg2xKANcbIYhxEpL8OMwZIY7gXXbkc2wUkStxMSbU4K7\")\n",
    "\n",
    "api = tweepy.API(auth)\n",
    "\n",
    "public_tweets = api.home_timeline()\n",
    "\n",
    "user = api.get_user('twitter')\n",
    "\n",
    "print(user.screen_name)\n",
    "print(user.followers_count)\n",
    "\n",
    "for friend in user.friends():\n",
    "   print(friend.screen_name)\n",
    "\n",
    "for tweet in public_tweets:\n",
    "    print(tweet.text)"
   ]
  },
  {
   "cell_type": "code",
   "execution_count": null,
   "metadata": {},
   "outputs": [],
   "source": []
  }
 ],
 "metadata": {
  "kernelspec": {
   "display_name": "Python 2",
   "language": "python",
   "name": "python2"
  },
  "language_info": {
   "codemirror_mode": {
    "name": "ipython",
    "version": 2
   },
   "file_extension": ".py",
   "mimetype": "text/x-python",
   "name": "python",
   "nbconvert_exporter": "python",
   "pygments_lexer": "ipython2",
   "version": "2.7.6"
  }
 },
 "nbformat": 4,
 "nbformat_minor": 0
}
