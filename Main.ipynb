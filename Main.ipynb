{
 "cells": [
  {
   "cell_type": "code",
   "execution_count": 1,
   "metadata": {
    "collapsed": false
   },
   "outputs": [],
   "source": [
    "import nltk\n",
    "#nltk.download()\n",
    "import os\n",
    "import pandas as pd\n",
    "# import numpy\n",
    "# from os import listdir\n",
    "from nltk.tokenize import sent_tokenize, word_tokenize\n",
    "from nltk.stem import PorterStemmer\n",
    "from nltk.corpus import stopwords\n",
    "#import matplotlib.pyplot as plt\n",
    "import csv"
   ]
  },
  {
   "cell_type": "heading",
   "metadata": {},
   "level": 1,
   "source": [
    "Trying To Download The Data From WEBSITE - check if need"
   ]
  },
  {
   "cell_type": "code",
   "execution_count": 2,
   "metadata": {},
   "outputs": [],
   "source": [
    "######################################################## download data from the website\n",
    "# import requests\n",
    "# data_url = \"https://www.kaggle.com/crowdflower/twitter-user-gender-classification/downloads/gender-classifier-DFE-791531.csv\"\n",
    "# kaggle_info = {'UserName': \"avevanes\", 'Password': \"zqPwpz0t?\"}\n",
    "# r = requests.get(data_url)\n",
    "# r = requests.post(r.url, data=kaggle_info)\n",
    "# f = open('gender-classifier-DFE-791531.csv','w')\n",
    "# for chunk in r.iter_content(chunk_size=512 * 1024):\n",
    "#     if chunk:\n",
    "#         f.write(chunk)\n",
    "# f.close()\n",
    "\n"
   ]
  },
  {
   "cell_type": "heading",
   "metadata": {},
   "level": 2,
   "source": [
    "Pre-Processing"
   ]
  },
  {
   "cell_type": "code",
   "execution_count": 3,
   "metadata": {},
   "outputs": [],
   "source": [
    "# clean\n",
    "stop_words = stopwords.words('english')\n",
    "def cleanAndNormalizeText(data):\n",
    "    # tokenize\n",
    "    tokenize = word_tokenize(data)\n",
    "    # remove stop words\n",
    "    filterText = [w for w in tokenize if w not in stop_words]\n",
    "    filterText = [w for w in filterText if not len(w) <= 1]\n",
    "\n",
    "    # stem\n",
    "    ps = PorterStemmer()\n",
    "    for i in range(len(filterText)-1):\n",
    "        if len(filterText[i]) > 1:\n",
    "            try:\n",
    "                filterText[i] = ps.stem(filterText[i])\n",
    "            except Exception as e:\n",
    "                filterText[i] = filterText[i]\n",
    "\n",
    "    return ' '.join(filterText)"
   ]
  },
  {
   "cell_type": "heading",
   "metadata": {},
   "level": 1,
   "source": []
  },
  {
   "cell_type": "code",
   "execution_count": 4,
   "metadata": {},
   "outputs": [
    {
     "name": "stdout",
     "output_type": "stream",
     "text": [
      "              ID   gender                                        description  \\\n0      815719226     male                                        sing rhythm   \n1      815719227     male          'm author novel fill famili drama romance   \n2      815719228     male                               loui whine squealing   \n3      815719229     male  mobil guy 49er shazam googl kleiner perkin yah...   \n4      815719230   female  ricki wilson the best frontman/kais chief the ...   \n5      815719231   female                                           n't know   \n6      815719232    brand  global marketplac imag video music share photo...   \n7      815719233     male                   the secret get ahead get started   \n8      815719234   female                  pll fan // crazi mcd // ramen bae   \n9      815719235   female  renaiss art historian univers nottingham fuell...   \n10     815719236    brand  clean food tast great provid energi nutrient N...   \n11     815719237    brand                      highli extraordinari auctions   \n12     815719238   female                            senior '16 XI-XII-MMXIV   \n13     815719239    brand  come join fastest blog network onlin today htt...   \n14     815719240   female                      im tp bo burnham disney world   \n15     815719241   female                                                      \n16     815719242   female                                             JMKM_ҕ   \n17     815719243     male  over enthusiast F1 fan model collector music f...   \n18     815719244     male                                                      \n19     815719245  unknown                                                      \n20     815719246   female  artisan special paper mach print-mak fibr art ...   \n21     815719247   female                         He bled die take away sins   \n22     815719248   female                                         union xxxx   \n23     815719249     male                                          you start   \n24     815719250     male                            bsc econom graduat COYS   \n25     815719251   female           wife coach mom eight troop follow Christ   \n26     815719252    brand  If question islam would like answer visit http...   \n27     815719253    brand  14 canadian space enthusiast futur astronaut h...   \n28     815719254   female                      My dm close Sc Dear_Moonshine   \n29     815719255     male  rl/writer lewd aspir femboy enjoy oneechan gir...   \n...          ...      ...                                                ...   \n20020  815754293    brand  pacif victori roll websit raaf rnzaf pacif air...   \n20021  815754330     male                                   camden Nj single   \n20022  815754362     male                                 come let blow mind   \n20023  815754554     male                                                      \n20024  815754614    brand                             code linux food Oh art   \n20025  815754750    brand  promot market solut leisur tourism hospit life...   \n20026  815755076     male  freelanc halo writer work appear haloforumeu d...   \n20027  815755206     male                                                      \n20028  815755336   female                                           **sigh**   \n20029  815755512    brand        music sport photografi travel shop internet   \n20030  815755552    brand  crowdsourc innov the finnd connect fed govt. i...   \n20031  815755604     male                                                      \n20032  815755689     male  amic IT person self indulg writer somehow lice...   \n20033  815755763   female  ci she/her /18/volleybal enthusiast/ art somet...   \n20034  815755825    brand  where raleigh 's dynam leader come connect hos...   \n20035  815755887   female  25. love friend famili color pink mkto follow ...   \n20036  815756011   female  13 // snapchat sianfreya.xϭ caitlin_zz_ ~jack ...   \n20037  815756103     male  typograph typograph consult co-found fontsinus...   \n20038  815756269    brand  the fun site anim lover get latest anim news b...   \n20039  815756332   female                               you find wild things   \n20040  815756417     male   houston chronicl columnist ken.hoffman chron.com   \n20041  815756542    brand  when famili go divorc 's help parent talk divo...   \n20042  815756642    brand  review delect food picturesqu travel kickass r...   \n20043  815756700     male       head chef chez bruce love car bicycl 90 Food   \n20044  815756767   female                      love Me ... myself ... ... .I   \n20045  815757572   female                                                 rp   \n20046  815757681     male  whatev like 's problem 9/1/15 chargern forever...   \n20047  815757830     male  teambarcelona ..you look lost follow ... follo...   \n20048  815757921   female  anti-statist homeschool kid aspir thoughtlead ...   \n20049  815757985   female                           teamwork make dream work   \n\n                                                    text  \n0      robbi respond To critic after win against eddi...  \n1      It felt like friend live stori them۝ http //t....  \n2        absolut ador loui start song hit hard feel good  \n3      Hi jordanspieth look url use ifttt Do n't typi...  \n4      watch neighbour sky+ catch neighb xxx _____ُ_ԍ...  \n5      ive seen peopl train lamp chair tv etc http //...  \n6               bpackengin thank patienc take care issue  \n7      gala bingo club bought 241m the UK 's largest ...  \n8      _aphmau_ pic defin mcd fangirls/fanboy mcd shi...  \n9      evieladi love tree year never seen gorgeou aut...  \n10         take care http //t.co/orl9u1p8yi fitfluential  \n11     mtg deal 1x rank-up-mag the seventh one prio-e...  \n12                               just put ass line repay  \n13     http //t.co/z4sbwuugd8 what nation will Be tal...  \n14                  even need sound effect divin tonight  \n15     http //t.co/erogwtftyo It 's glow satisfact th...  \n16     giannaaa28 lmao __ dude 'm hella scare next ep...  \n17     coolyazzy94 ditto 'm still learn favourit retw...  \n18      caribbro jstsaleem n't understand get server get  \n19     Me saw five lioness drink around littl pan one...  \n20              craftyear2015 isabelpascu thank retweets  \n21          all girl went sleep guy sat floor watch us__  \n22                     chrisaoffici 'm right side__ُ_xxx  \n23     yall lmfaoo right when the choru came ON tear ...  \n24     jame bond premier night everymancinema oxt sid...  \n25     sydniejr except hallmark movi start wo n't get...  \n26     how beauti religion teach love other love isla...  \n27               fuck nasa awesom http //t.co/wIUkltDTyO  \n28                you leav group chat min miss made shit  \n29     As oppos pump 's like HI hope you like do jump...  \n...                                                  ...  \n20020  wwii 27 oct 42 new guinea 5af p-40 escort raaf...  \n20021  and ye Im tote catch Em without My strap amp i...  \n20022                   think 'm go move colorado winter  \n20023  georg bush dick cheney need vacat irac paradis...  \n20024  the droid 're look ... http //t.co/apfexgwda2 ...  \n20025  Ha ha know mean bizstartupladi blink 's gone o...  \n20026         still look free bar http //t.co/WiQ3VaW7js  \n20027  junior doctor civil unrest london yet hardli r...  \n20028           lmaokaylinx charlieputh open pictur OMGG  \n20029  the complet gillian flynn gone girl sharp obje...  \n20030  the white hous Is readi for tech To step Up In...  \n20031  bun save kid rib ... not hero cape black live ...  \n20032  legobutt quest kill stuff wear mask 'll get ca...  \n20033  final read blood olympu children happi read re...  \n20034  view commun halloween spooktacular cityclubral...  \n20035  beetlejuic perfect halloween movi beetlejuic T...  \n20036           itsleehinchi leesqanda 's stori balamory  \n20037  trentwalton oguzbilg spell all-cap think may c...  \n20038  jon stewart 's anim sanctuari and educ center ...  \n20039                         especi best still get shit  \n20040  discov england It 's eat fish chip never went ...  \n20041  for stan lisa ... coffe cup http //t.co/isnpir...  \n20042  best bloodi mari brunch nycwff nyceff deathsdo...  \n20043  game faggot venison loin crisp spelt quinc htt...  \n20044  need ride home from practic ___and rain hard a...  \n20045          lookupondeath ... fine 'll drink tea love  \n20046  greg hardi good player n't get face dez bryant...  \n20047                you miss peopl still never want see  \n20048  bitemyapp notic tendenc pee carpet n't want sa...  \n20049  think apush creativ project 'm go bring bacon ...  \n\n[20050 rows x 4 columns]\n"
     ]
    }
   ],
   "source": [
    "# get data from csv\n",
    "# check if need to pre-process description too\n",
    "\n",
    "genderClassData = []\n",
    "with open('C:\\\\Users\\\\abalata\\\\Downloads\\\\gender-classifier-DFE-791531.csv\\\\gender-classifier-DFE-791531.csv','r', encoding=\"utf8\" ,errors=\"ignore\") as csvfile:\n",
    "    reader = csv.reader(csvfile)\n",
    "    count = 0\n",
    "    for row in reader:\n",
    "        if count != 0:\n",
    "            description = cleanAndNormalizeText(row[10])\n",
    "            text = cleanAndNormalizeText(row[19])\n",
    "            genderClassData.append([row[0], row[5], description, text])\n",
    "        count = count+1\n",
    "\n",
    "trainTable = pd.DataFrame(genderClassData, columns=['ID', 'gender', 'description', 'text'])\n",
    "print(trainTable)\n"
   ]
  },
  {
   "cell_type": "code",
   "execution_count": null,
   "metadata": {},
   "outputs": [],
   "source": [
    ""
   ]
  }
 ],
 "metadata": {
  "kernelspec": {
   "display_name": "Python 2",
   "language": "python",
   "name": "python2"
  },
  "language_info": {
   "codemirror_mode": {
    "name": "ipython",
    "version": 2
   },
   "file_extension": ".py",
   "mimetype": "text/x-python",
   "name": "python",
   "nbconvert_exporter": "python",
   "pygments_lexer": "ipython2",
   "version": "2.7.6"
  }
 },
 "nbformat": 4,
 "nbformat_minor": 0
}
